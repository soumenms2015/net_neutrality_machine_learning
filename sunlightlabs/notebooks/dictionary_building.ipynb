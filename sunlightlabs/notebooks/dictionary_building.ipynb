{
 "metadata": {
  "name": "",
  "signature": "sha256:f4520e9e1c78ea1114140ea87a040b81b5a86e851a37990ff89cdd504f02f7e8"
 },
 "nbformat": 3,
 "nbformat_minor": 0,
 "worksheets": [
  {
   "cells": [
    {
     "cell_type": "code",
     "collapsed": false,
     "input": [
      "import sys\n",
      "import os\n",
      "\n",
      "sys.path.append(os.path.join(os.getcwd(), os.path.pardir))"
     ],
     "language": "python",
     "metadata": {},
     "outputs": [],
     "prompt_number": 1
    },
    {
     "cell_type": "code",
     "collapsed": false,
     "input": [
      "#import settings\n",
      "reload(settings)"
     ],
     "language": "python",
     "metadata": {},
     "outputs": [],
     "prompt_number": 2
    },
    {
     "cell_type": "code",
     "collapsed": false,
     "input": [
      "#from models import tokenizer\n",
      "#from models import corpus\n",
      "reload(tokenizer)\n",
      "reload(corpus)"
     ],
     "language": "python",
     "metadata": {},
     "outputs": [
      {
       "metadata": {},
       "output_type": "pyout",
       "prompt_number": 109,
       "text": [
        "<module 'models.corpus' from '/home/blannon/dev/fcc-net-neutrality-comments/notebooks/../models/corpus.pyc'>"
       ]
      }
     ],
     "prompt_number": 109
    },
    {
     "cell_type": "code",
     "collapsed": false,
     "input": [
      "from gensim.corpora import dictionary"
     ],
     "language": "python",
     "metadata": {},
     "outputs": [],
     "prompt_number": 110
    },
    {
     "cell_type": "code",
     "collapsed": false,
     "input": [
      "punct_tags = list(',.:)\"') + ['CD', 'IN']"
     ],
     "language": "python",
     "metadata": {},
     "outputs": [],
     "prompt_number": 111
    },
    {
     "cell_type": "code",
     "collapsed": false,
     "input": [
      "punct_tags"
     ],
     "language": "python",
     "metadata": {},
     "outputs": [
      {
       "metadata": {},
       "output_type": "pyout",
       "prompt_number": 112,
       "text": [
        "[',', '.', ':', ')', '\"', 'CD', 'IN']"
       ]
      }
     ],
     "prompt_number": 112
    },
    {
     "cell_type": "code",
     "collapsed": false,
     "input": [
      "pt_tokenizer = tokenizer.PretaggedTokenizer(stopword_list=None, filter_tags=punct_tags)\n",
      "lj_corpus = corpus.LazyJSONCorpus(tokenizer=pt_tokenizer, dictionary=None, path_to_text=\"tagged\")"
     ],
     "language": "python",
     "metadata": {},
     "outputs": [],
     "prompt_number": 113
    },
    {
     "cell_type": "code",
     "collapsed": false,
     "input": [
      "glob_pattern = os.path.join(settings.PROC_DIR,'*.json')\n",
      "lj_corpus.glob_documents(glob_pattern)"
     ],
     "language": "python",
     "metadata": {},
     "outputs": [],
     "prompt_number": 114
    },
    {
     "cell_type": "code",
     "collapsed": false,
     "input": [
      "len(lj_corpus)"
     ],
     "language": "python",
     "metadata": {},
     "outputs": [
      {
       "metadata": {},
       "output_type": "pyout",
       "prompt_number": 115,
       "text": [
        "100"
       ]
      }
     ],
     "prompt_number": 115
    },
    {
     "cell_type": "code",
     "collapsed": false,
     "input": [
      "lj_corpus.next()"
     ],
     "language": "python",
     "metadata": {},
     "outputs": [
      {
       "metadata": {},
       "output_type": "pyout",
       "prompt_number": 116,
       "text": [
        "['dear_NP',\n",
        " 'fcc_NP',\n",
        " 'name_NN',\n",
        " 'kendall_NP',\n",
        " 'johnson_NP',\n",
        " 'live_VVP',\n",
        " 'los_NP',\n",
        " 'angeles_NP',\n",
        " 'ca_NP',\n",
        " 'net_JJ',\n",
        " 'neutrality_NN',\n",
        " 'principle_NN',\n",
        " 'internet_NP',\n",
        " 'service_NN',\n",
        " 'provider_NNS',\n",
        " 'isps_NP',\n",
        " 'treat_VV',\n",
        " 'data_NNS',\n",
        " 'travel_VVZ',\n",
        " 'network_NNS',\n",
        " 'equally_RB',\n",
        " 'important_JJ',\n",
        " 'user_NNS',\n",
        " 'may_MD',\n",
        " 'few_JJR',\n",
        " 'option_NNS',\n",
        " 'less_RBR',\n",
        " 'diverse_JJ',\n",
        " 'internet_NP',\n",
        " 'internet_NP',\n",
        " 'worry_NNS',\n",
        " 'isps_NP',\n",
        " 'could_MD',\n",
        " 'act_VV',\n",
        " 'gatekeepers_NNS',\n",
        " 'subscriber_NNS',\n",
        " 'internet_NP',\n",
        " 'important_JJ',\n",
        " 'artist_NN',\n",
        " 'become_VVN',\n",
        " 'tool_NN',\n",
        " 'art_NN',\n",
        " 'many_JJ',\n",
        " 'important_JJ',\n",
        " 'reason_NNS',\n",
        " 'come_VVG',\n",
        " 'actor_NN',\n",
        " 'use_VVP',\n",
        " 'internet_NN',\n",
        " 'platform_NN',\n",
        " 'research_VV',\n",
        " 'great_JJ',\n",
        " 'place_NN',\n",
        " 'start_VV',\n",
        " 'research_NN',\n",
        " 'example_NN',\n",
        " 'portray_VV',\n",
        " 'lawyer_NN',\n",
        " 'doctor_NN',\n",
        " 'accurately_RB',\n",
        " 'look_VV',\n",
        " 'peer_NN',\n",
        " 'review_VVD',\n",
        " 'article_NNS',\n",
        " 'google_NP',\n",
        " 'scholar_NP',\n",
        " 'read_VV',\n",
        " 'deposition_NNS',\n",
        " 'view_VV',\n",
        " 'litigation_NN',\n",
        " 'surgery_NN',\n",
        " 'youtube_NN',\n",
        " 'view_VV',\n",
        " 'litigation_NN',\n",
        " 'proceeding_NNS',\n",
        " 'botch_VVN',\n",
        " 'surgical_JJ',\n",
        " 'procedure_NN',\n",
        " 'mean_NN',\n",
        " 'sky_NN',\n",
        " 'also_RB',\n",
        " 'use_VVP',\n",
        " 'internet_NN',\n",
        " 'connect_VV',\n",
        " 'fellow_NN',\n",
        " 'actor_NNS',\n",
        " 'director_NNS',\n",
        " 'producer_NNS',\n",
        " 'net_JJ',\n",
        " 'neutrality_NN',\n",
        " 'level_VVZ',\n",
        " 'play_VVG',\n",
        " 'field_NN',\n",
        " 'person_NNS',\n",
        " 'could_MD',\n",
        " 'dream_VV',\n",
        " 'visible_JJ',\n",
        " 'already_RB',\n",
        " 'establish_VVN',\n",
        " 'actor_NNS',\n",
        " 'key_JJ',\n",
        " 'aspect_NNS',\n",
        " 'early_JJ',\n",
        " 'act_NN',\n",
        " 'career_NN',\n",
        " 'crucial_JJ',\n",
        " 'business_NN',\n",
        " 'life_NN',\n",
        " 'actor_NN',\n",
        " 'happen_VV',\n",
        " 'internet_NN',\n",
        " 'keep_VVG',\n",
        " 'net_JJ',\n",
        " 'neutrality_NN',\n",
        " 'would_MD',\n",
        " 'make_VV',\n",
        " 'craft_NN',\n",
        " 'art_NN',\n",
        " 'suffer_VVP',\n",
        " 'immensely_RB',\n",
        " 'please_UH',\n",
        " 'keep_VV',\n",
        " 'net_JJ',\n",
        " 'neutrality_NN',\n",
        " 'alive_JJ',\n",
        " 'sincerely_RB',\n",
        " 'kendall_NP',\n",
        " 'johnson_NP',\n",
        " 'page_NP']"
       ]
      }
     ],
     "prompt_number": 116
    },
    {
     "cell_type": "code",
     "collapsed": false,
     "input": [
      "my_dict = dictionary.Dictionary(lj_corpus)"
     ],
     "language": "python",
     "metadata": {},
     "outputs": [
      {
       "output_type": "stream",
       "stream": "stderr",
       "text": [
        "problem word: \"|\"|\"\n",
        "problem word: \"|\"|\"\n",
        "problem word: \"|\"|\"\n",
        "problem word: \"|\"|\"\n",
        "problem word: \"|\"|\"\n"
       ]
      },
      {
       "output_type": "stream",
       "stream": "stderr",
       "text": [
        "problem word: \"|\"|\"\n",
        "problem word: \"|\"|\"\n"
       ]
      },
      {
       "output_type": "stream",
       "stream": "stderr",
       "text": [
        "problem word: \"|\"|\"\n",
        "problem word: \"|\"|\"\n",
        "problem word: \"|\"|\"\n"
       ]
      }
     ],
     "prompt_number": 117
    },
    {
     "cell_type": "code",
     "collapsed": false,
     "input": [
      "lj_corpus.dictionary = my_dict"
     ],
     "language": "python",
     "metadata": {},
     "outputs": [],
     "prompt_number": 118
    },
    {
     "cell_type": "code",
     "collapsed": false,
     "input": [
      "lj_corpus.rewind()"
     ],
     "language": "python",
     "metadata": {},
     "outputs": [],
     "prompt_number": 119
    },
    {
     "cell_type": "code",
     "collapsed": false,
     "input": [
      "lj_corpus.next()"
     ],
     "language": "python",
     "metadata": {},
     "outputs": [
      {
       "metadata": {},
       "output_type": "pyout",
       "prompt_number": 120,
       "text": [
        "[(2, 1),\n",
        " (10, 1),\n",
        " (19, 1),\n",
        " (27, 1),\n",
        " (33, 1),\n",
        " (34, 1),\n",
        " (43, 3),\n",
        " (44, 4),\n",
        " (46, 2),\n",
        " (58, 4),\n",
        " (59, 4),\n",
        " (63, 1),\n",
        " (64, 1),\n",
        " (65, 1),\n",
        " (67, 1),\n",
        " (69, 1),\n",
        " (74, 1),\n",
        " (90, 1),\n",
        " (95, 2),\n",
        " (107, 2),\n",
        " (119, 3),\n",
        " (120, 1),\n",
        " (134, 1),\n",
        " (160, 1),\n",
        " (173, 1),\n",
        " (175, 1),\n",
        " (179, 1),\n",
        " (181, 1),\n",
        " (186, 1),\n",
        " (188, 1),\n",
        " (190, 1),\n",
        " (192, 1),\n",
        " (258, 1),\n",
        " (262, 1),\n",
        " (263, 1),\n",
        " (265, 1),\n",
        " (266, 1),\n",
        " (269, 1),\n",
        " (292, 1),\n",
        " (321, 1),\n",
        " (322, 1),\n",
        " (343, 1),\n",
        " (365, 1),\n",
        " (426, 1)]"
       ]
      }
     ],
     "prompt_number": 120
    },
    {
     "cell_type": "code",
     "collapsed": false,
     "input": [],
     "language": "python",
     "metadata": {},
     "outputs": []
    }
   ],
   "metadata": {}
  }
 ]
}