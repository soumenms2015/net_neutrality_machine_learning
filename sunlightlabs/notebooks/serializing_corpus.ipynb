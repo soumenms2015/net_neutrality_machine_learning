{
 "metadata": {
  "name": "",
  "signature": "sha256:67288b485d45eb60bb5d6876800e27e0bb1c8bf5c0625747c1c9c3b9275677cb"
 },
 "nbformat": 3,
 "nbformat_minor": 0,
 "worksheets": [
  {
   "cells": [
    {
     "cell_type": "code",
     "collapsed": false,
     "input": [
      "import sys\n",
      "import os\n",
      "\n",
      "sys.path.append(os.path.join(os.getcwd(), os.path.pardir))"
     ],
     "language": "python",
     "metadata": {},
     "outputs": [],
     "prompt_number": 1
    },
    {
     "cell_type": "code",
     "collapsed": false,
     "input": [
      "import logging\n",
      "logging.basicConfig(format='%(asctime)s : %(levelname)s : %(message)s', level=logging.INFO)"
     ],
     "language": "python",
     "metadata": {},
     "outputs": [],
     "prompt_number": 2
    },
    {
     "cell_type": "code",
     "collapsed": false,
     "input": [
      "import settings\n",
      "#reload(settings)"
     ],
     "language": "python",
     "metadata": {},
     "outputs": [],
     "prompt_number": 3
    },
    {
     "cell_type": "code",
     "collapsed": false,
     "input": [
      "#from models import tokenizer\n",
      "#from models import corpus\n",
      "reload(tokenizer)\n",
      "reload(corpus)"
     ],
     "language": "python",
     "metadata": {},
     "outputs": [
      {
       "metadata": {},
       "output_type": "pyout",
       "prompt_number": 26,
       "text": [
        "<module 'models.corpus' from '/home/blannon/dev/fcc-net-neutrality-comments/notebooks/../models/corpus.py'>"
       ]
      }
     ],
     "prompt_number": 26
    },
    {
     "cell_type": "code",
     "collapsed": false,
     "input": [
      "from gensim import corpora\n",
      "from gensim.corpora import dictionary"
     ],
     "language": "python",
     "metadata": {},
     "outputs": [],
     "prompt_number": 27
    },
    {
     "cell_type": "code",
     "collapsed": false,
     "input": [
      "my_dict = dictionary.Dictionary.load('../persistence/my_dict')\n"
     ],
     "language": "python",
     "metadata": {},
     "outputs": [],
     "prompt_number": 28
    },
    {
     "cell_type": "code",
     "collapsed": false,
     "input": [
      "punct_tags = list(',.:)\"') + ['CD', 'IN']"
     ],
     "language": "python",
     "metadata": {},
     "outputs": [],
     "prompt_number": 29
    },
    {
     "cell_type": "code",
     "collapsed": false,
     "input": [
      "pt_tokenizer = tokenizer.PretaggedTokenizer(stopword_list=None, filter_tags=punct_tags)"
     ],
     "language": "python",
     "metadata": {},
     "outputs": [],
     "prompt_number": 30
    },
    {
     "cell_type": "code",
     "collapsed": false,
     "input": [
      "lj_corpus = corpus.LazyJSONCorpus(tokenizer=pt_tokenizer, dictionary=my_dict, path_to_text='tagged')"
     ],
     "language": "python",
     "metadata": {},
     "outputs": [],
     "prompt_number": 31
    },
    {
     "cell_type": "code",
     "collapsed": false,
     "input": [
      "glob_pattern = os.path.join(settings.PROC_DIR, '*.json')\n",
      "\n",
      "lj_corpus.glob_documents(glob_pattern)"
     ],
     "language": "python",
     "metadata": {},
     "outputs": [],
     "prompt_number": 36
    },
    {
     "cell_type": "code",
     "collapsed": false,
     "input": [
      "len(lj_corpus)"
     ],
     "language": "python",
     "metadata": {},
     "outputs": [
      {
       "metadata": {},
       "output_type": "pyout",
       "prompt_number": 37,
       "text": [
        "670578"
       ]
      }
     ],
     "prompt_number": 37
    },
    {
     "cell_type": "code",
     "collapsed": false,
     "input": [
      "for i, doc in enumerate(lj_corpus):\n",
      "    if i > 10:\n",
      "        break\n",
      "    else:\n",
      "        print doc"
     ],
     "language": "python",
     "metadata": {},
     "outputs": [
      {
       "output_type": "stream",
       "stream": "stdout",
       "text": [
        "[(11, 2), (17, 1), (24, 4), (26, 1), (27, 1), (32, 1), (34, 1), (36, 1), (39, 1), (72, 1), (79, 2), (80, 1), (129, 1), (143, 1), (154, 1), (169, 1), (172, 1), (175, 1), (176, 1), (177, 1), (182, 1), (186, 3), (193, 1), (202, 2), (203, 1), (204, 1), (205, 1), (207, 1), (253, 1), (272, 1), (321, 1), (324, 1), (331, 1), (332, 1), (335, 1), (338, 1), (339, 1), (340, 1), (557, 1), (600, 2), (753, 1), (759, 1), (760, 1), (819, 1), (890, 1), (891, 1), (892, 1), (893, 1), (894, 1), (895, 1), (896, 1)]\n",
        "[(9, 1), (15, 1), (24, 2), (36, 1), (39, 1), (51, 1), (60, 1), (71, 2), (73, 1), (79, 1), (90, 1), (94, 1), (95, 1), (104, 1), (110, 1), (125, 1), (186, 1), (193, 3), (199, 1), (205, 1), (217, 1), (255, 1), (275, 1), (394, 1), (395, 1), (616, 1), (620, 1), (656, 1), (794, 1), (989, 1), (1006, 1), (1048, 1), (1063, 1), (1159, 1), (1160, 1), (1161, 1), (1162, 1), (1163, 1), (1164, 1)]\n",
        "[(3, 2), (7, 3), (9, 1), (15, 1), (17, 2), (21, 1), (24, 7), (26, 2), (32, 5), (34, 5), (36, 1), (39, 1), (40, 2), (44, 3), (47, 1), (48, 2), (51, 1), (54, 1), (68, 1), (72, 1), (75, 1), (78, 1), (79, 3), (86, 3), (104, 1), (115, 1), (123, 1), (125, 1), (127, 1), (128, 2), (151, 1), (167, 1), (175, 1), (177, 1), (182, 1), (186, 6), (204, 1), (220, 3), (225, 3), (228, 1), (234, 1), (235, 1), (236, 1), (237, 1), (238, 1), (239, 2), (240, 3), (241, 1), (242, 1), (243, 1), (244, 1), (245, 1), (246, 1), (247, 2), (248, 1), (249, 2), (250, 1), (251, 1), (252, 1), (253, 2), (254, 1), (255, 1), (256, 1), (257, 1), (258, 1), (259, 1), (260, 1), (261, 1), (262, 1), (263, 1), (264, 1), (265, 1), (266, 1), (267, 1), (268, 1), (269, 1), (270, 1), (271, 1), (272, 2), (273, 1), (274, 1), (275, 1), (276, 1), (277, 1), (278, 3), (279, 1), (280, 1), (281, 1), (282, 1), (283, 1), (284, 1), (285, 1), (286, 1), (287, 1), (288, 1), (382, 1), (627, 1), (758, 1), (861, 1), (2376, 1), (2377, 1), (2378, 1)]\n",
        "[(3, 2), (7, 3), (9, 1), (15, 1), (17, 2), (21, 1), (24, 7), (26, 2), (32, 5), (34, 5), (36, 1), (39, 1), (40, 1), (44, 3), (47, 1), (51, 1), (54, 1), (68, 1), (72, 1), (75, 1), (78, 1), (79, 3), (86, 3), (104, 1), (123, 1), (127, 1), (128, 2), (151, 1), (167, 1), (175, 1), (177, 1), (182, 1), (186, 6), (204, 1), (220, 3), (225, 3), (228, 1), (234, 1), (235, 1), (236, 1), (237, 1), (238, 1), (239, 2), (240, 3), (241, 1), (242, 1), (243, 1), (244, 1), (245, 1), (246, 1), (247, 2), (248, 1), (249, 2), (250, 1), (251, 1), (252, 1), (253, 2), (254, 1), (255, 1), (256, 1), (257, 1), (258, 1), (259, 1), (260, 1), (261, 1), (262, 1), (263, 1), (264, 1), (265, 1), (266, 1), (267, 1), (268, 1), (269, 1), (270, 1), (271, 1), (272, 2), (273, 1), (274, 1), (275, 1), (276, 1), (277, 1), (278, 3), (279, 1), (280, 1), (281, 1), (282, 1), (283, 1), (284, 1), (285, 1), (286, 1), (287, 1), (288, 1)]\n",
        "[(3, 2), (7, 3), (9, 1), (15, 1), (17, 2), (21, 1), (24, 7), (26, 2), (32, 5), (34, 5), (36, 1), (39, 1), (40, 1), (44, 3), (47, 1), (51, 1), (54, 1), (68, 1), (72, 1), (75, 1), (78, 1), (79, 3), (86, 3), (104, 1), (123, 1), (127, 1), (128, 2), (151, 1), (167, 1), (175, 1), (177, 1), (182, 1), (186, 6), (204, 1), (220, 3), (225, 3), (228, 1), (234, 1), (235, 1), (236, 1), (237, 1), (238, 1), (239, 2), (240, 3), (241, 1), (242, 1), (243, 1), (244, 1), (245, 1), (246, 1), (247, 2), (248, 1), (249, 2), (250, 1), (251, 1), (252, 1), (253, 2), (254, 1), (255, 1), (256, 1), (257, 1), (258, 1), (259, 1), (260, 1), (261, 1), (262, 1), (263, 1), (264, 1), (265, 1), (266, 1), (267, 1), (268, 1), (269, 1), (270, 1), (271, 1), (272, 2), (273, 1), (274, 1), (275, 1), (276, 1), (277, 1), (278, 3), (279, 1), (280, 1), (281, 1), (282, 1), (283, 1), (284, 1), (285, 1), (286, 1), (287, 1), (288, 1)]\n",
        "[(9, 1), (11, 1), (17, 1), (24, 4), (25, 1), (27, 1), (32, 1), (34, 1), (36, 1), (39, 1), (47, 1), (55, 1), (62, 1), (68, 3), (72, 1), (79, 5), (80, 1), (114, 1), (128, 1), (132, 1), (169, 1), (171, 1), (172, 2), (173, 1), (175, 1), (176, 1), (177, 1), (178, 1), (180, 1), (181, 1), (182, 2), (184, 2), (185, 1), (186, 2), (189, 1), (190, 1), (192, 1), (193, 1), (198, 1), (201, 2), (203, 1), (204, 1), (207, 1), (240, 1), (253, 1), (272, 1), (287, 1), (310, 2), (312, 1), (313, 1), (319, 1), (322, 1), (324, 1), (331, 1), (334, 1), (335, 1), (338, 1), (339, 1), (340, 1), (341, 1), (533, 1), (1539, 1), (2724, 1), (2880, 2)]\n",
        "[(11, 1), (17, 1), (24, 4), (27, 1), (32, 1), (34, 1), (36, 1), (39, 1), (47, 1), (52, 1), (68, 2), (70, 1), (72, 1), (79, 1), (80, 1), (110, 1), (119, 1), (129, 1), (167, 1), (173, 1), (175, 1), (176, 1), (177, 1), (182, 1), (185, 1), (186, 2), (189, 2), (193, 1), (201, 1), (203, 1), (204, 1), (207, 1), (240, 1), (276, 1), (311, 1), (313, 1), (314, 1), (323, 1), (324, 1), (331, 1), (453, 1), (457, 1), (533, 1), (584, 1), (607, 1), (671, 1), (811, 1), (936, 1), (948, 1), (963, 1), (1360, 1), (1414, 1), (1442, 1), (1463, 1), (1593, 1), (1607, 1), (1664, 1), (2127, 1), (2616, 2), (2704, 1), (2947, 1), (2948, 1), (2949, 1), (2950, 1), (2951, 1), (2952, 1), (2953, 2)]\n",
        "[(9, 2), (22, 1), (36, 1), (90, 1), (97, 1), (104, 1), (115, 1), (143, 1), (149, 1), (154, 1), (252, 1), (395, 1), (426, 1), (908, 1), (1251, 1), (1601, 1)]\n",
        "[(3, 2), (7, 3), (9, 1), (15, 1), (17, 2), (21, 1), (24, 7), (26, 2), (32, 5), (34, 5), (36, 1), (39, 1), (40, 1), (44, 3), (47, 1), (51, 1), (54, 1), (68, 1), (72, 1), (75, 1), (78, 1), (79, 3), (86, 3), (104, 1), (123, 1), (127, 1), (128, 2), (151, 1), (167, 1), (175, 1), (177, 1), (182, 1), (186, 6), (204, 1), (220, 3), (225, 3), (228, 1), (234, 1), (235, 1), (236, 1), (237, 1), (238, 1), (239, 2), (240, 3), (241, 1), (242, 1), (243, 1), (244, 1), (245, 1), (246, 1), (247, 2), (248, 1), (249, 2), (250, 1), (251, 1), (252, 1), (253, 2), (254, 1), (255, 1), (256, 1), (257, 1), (258, 1), (259, 1), (260, 1), (261, 1), (262, 1), (263, 1), (264, 1), (265, 1), (266, 1), (267, 1), (268, 1), (269, 1), (270, 1), (271, 1), (272, 2), (273, 1), (274, 1), (275, 1), (276, 1), (277, 1), (278, 3), (279, 1), (280, 1), (281, 1), (282, 1), (283, 1), (284, 1), (285, 1), (286, 1), (287, 1), (288, 1)]\n",
        "[(3, 2), (7, 3), (9, 1), (15, 1), (17, 2), (21, 1), (24, 7), (26, 2), (32, 5), (34, 5), (36, 1), (39, 1), (40, 1), (44, 3), (47, 1), (51, 1), (54, 1), (68, 1), (72, 1), (75, 1), (78, 1), (79, 3), (86, 3), (104, 1), (123, 1), (127, 1), (128, 2), (151, 1), (167, 1), (175, 1), (177, 1), (182, 1), (186, 6), (204, 1), (220, 3), (225, 3), (228, 1), (234, 1), (235, 1), (236, 1), (237, 1), (238, 1), (239, 2), (240, 3), (241, 1), (242, 1), (243, 1), (244, 1), (245, 1), (246, 1), (247, 2), (248, 1), (249, 2), (250, 1), (251, 1), (252, 1), (253, 2), (254, 1), (255, 1), (256, 1), (257, 1), (258, 1), (259, 1), (260, 1), (261, 1), (262, 1), (263, 1), (264, 1), (265, 1), (266, 1), (267, 1), (268, 1), (269, 1), (270, 1), (271, 1), (272, 2), (273, 1), (274, 1), (275, 1), (276, 1), (277, 1), (278, 3), (279, 1), (280, 1), (281, 1), (282, 1), (283, 1), (284, 1), (285, 1), (286, 1), (287, 1), (288, 1)]\n",
        "[(3, 2), (7, 3), (9, 2), (15, 1), (17, 2), (21, 1), (24, 8), (26, 2), (32, 5), (34, 5), (36, 1), (39, 1), (40, 1), (44, 3), (47, 1), (51, 1), (54, 1), (59, 1), (60, 1), (68, 1), (72, 1), (75, 2), (78, 1), (79, 3), (82, 1), (86, 3), (104, 1), (121, 1), (123, 1), (127, 1), (128, 2), (151, 1), (167, 1), (175, 1), (177, 1), (182, 1), (186, 6), (204, 1), (220, 3), (225, 3), (228, 1), (234, 1), (235, 1), (236, 2), (237, 1), (238, 1), (239, 2), (240, 3), (241, 1), (242, 1), (243, 1), (244, 1), (245, 1), (246, 1), (247, 2), (248, 1), (249, 2), (250, 1), (251, 1), (252, 1), (253, 2), (254, 1), (255, 1), (256, 1), (257, 1), (258, 1), (259, 1), (260, 1), (261, 1), (262, 1), (263, 1), (264, 1), (265, 1), (266, 1), (267, 1), (268, 1), (269, 1), (270, 1), (271, 1), (272, 2), (273, 1), (274, 1), (275, 1), (276, 1), (277, 1), (278, 3), (279, 1), (280, 1), (281, 1), (282, 1), (283, 1), (284, 1), (285, 1), (286, 1), (287, 1), (288, 1), (347, 1), (432, 1), (461, 1), (705, 1), (712, 1), (1652, 1), (3348, 1)]"
       ]
      },
      {
       "output_type": "stream",
       "stream": "stdout",
       "text": [
        "\n"
       ]
      }
     ],
     "prompt_number": 34
    },
    {
     "cell_type": "code",
     "collapsed": false,
     "input": [
      "corpora.MmCorpus.serialize('../persistence/corpus.mm', lj_corpus, my_dict)"
     ],
     "language": "python",
     "metadata": {},
     "outputs": [
      {
       "ename": "KeyboardInterrupt",
       "evalue": "",
       "output_type": "pyerr",
       "traceback": [
        "\u001b[1;31m---------------------------------------------------------------------------\u001b[0m\n\u001b[1;31mKeyboardInterrupt\u001b[0m                         Traceback (most recent call last)",
        "\u001b[1;32m<ipython-input-35-a84fa841330f>\u001b[0m in \u001b[0;36m<module>\u001b[1;34m()\u001b[0m\n\u001b[1;32m----> 1\u001b[1;33m \u001b[0mcorpora\u001b[0m\u001b[1;33m.\u001b[0m\u001b[0mMmCorpus\u001b[0m\u001b[1;33m.\u001b[0m\u001b[0mserialize\u001b[0m\u001b[1;33m(\u001b[0m\u001b[1;34m'../persistence/corpus.mm'\u001b[0m\u001b[1;33m,\u001b[0m \u001b[0mlj_corpus\u001b[0m\u001b[1;33m,\u001b[0m \u001b[0mmy_dict\u001b[0m\u001b[1;33m)\u001b[0m\u001b[1;33m\u001b[0m\u001b[0m\n\u001b[0m",
        "\u001b[1;32m/home/blannon/.virtualenvs/san/local/lib/python2.7/site-packages/gensim/corpora/indexedcorpus.pyc\u001b[0m in \u001b[0;36mserialize\u001b[1;34m(serializer, fname, corpus, id2word, index_fname, progress_cnt, labels, metadata)\u001b[0m\n\u001b[0;32m     88\u001b[0m                 \u001b[0moffsets\u001b[0m \u001b[1;33m=\u001b[0m \u001b[0mserializer\u001b[0m\u001b[1;33m.\u001b[0m\u001b[0msave_corpus\u001b[0m\u001b[1;33m(\u001b[0m\u001b[0mfname\u001b[0m\u001b[1;33m,\u001b[0m \u001b[0mcorpus\u001b[0m\u001b[1;33m,\u001b[0m \u001b[0mid2word\u001b[0m\u001b[1;33m,\u001b[0m \u001b[0mlabels\u001b[0m\u001b[1;33m=\u001b[0m\u001b[0mlabels\u001b[0m\u001b[1;33m,\u001b[0m \u001b[0mmetadata\u001b[0m\u001b[1;33m=\u001b[0m\u001b[0mmetadata\u001b[0m\u001b[1;33m)\u001b[0m\u001b[1;33m\u001b[0m\u001b[0m\n\u001b[0;32m     89\u001b[0m             \u001b[1;32melse\u001b[0m\u001b[1;33m:\u001b[0m\u001b[1;33m\u001b[0m\u001b[0m\n\u001b[1;32m---> 90\u001b[1;33m                 \u001b[0moffsets\u001b[0m \u001b[1;33m=\u001b[0m \u001b[0mserializer\u001b[0m\u001b[1;33m.\u001b[0m\u001b[0msave_corpus\u001b[0m\u001b[1;33m(\u001b[0m\u001b[0mfname\u001b[0m\u001b[1;33m,\u001b[0m \u001b[0mcorpus\u001b[0m\u001b[1;33m,\u001b[0m \u001b[0mid2word\u001b[0m\u001b[1;33m,\u001b[0m \u001b[0mmetadata\u001b[0m\u001b[1;33m=\u001b[0m\u001b[0mmetadata\u001b[0m\u001b[1;33m)\u001b[0m\u001b[1;33m\u001b[0m\u001b[0m\n\u001b[0m\u001b[0;32m     91\u001b[0m \u001b[1;33m\u001b[0m\u001b[0m\n\u001b[0;32m     92\u001b[0m         \u001b[1;32mif\u001b[0m \u001b[0moffsets\u001b[0m \u001b[1;32mis\u001b[0m \u001b[0mNone\u001b[0m\u001b[1;33m:\u001b[0m\u001b[1;33m\u001b[0m\u001b[0m\n",
        "\u001b[1;32m/home/blannon/.virtualenvs/san/local/lib/python2.7/site-packages/gensim/corpora/mmcorpus.pyc\u001b[0m in \u001b[0;36msave_corpus\u001b[1;34m(fname, corpus, id2word, progress_cnt, metadata)\u001b[0m\n\u001b[0;32m     47\u001b[0m         \u001b[0mlogger\u001b[0m\u001b[1;33m.\u001b[0m\u001b[0minfo\u001b[0m\u001b[1;33m(\u001b[0m\u001b[1;34m\"storing corpus in Matrix Market format to %s\"\u001b[0m \u001b[1;33m%\u001b[0m \u001b[0mfname\u001b[0m\u001b[1;33m)\u001b[0m\u001b[1;33m\u001b[0m\u001b[0m\n\u001b[0;32m     48\u001b[0m         \u001b[0mnum_terms\u001b[0m \u001b[1;33m=\u001b[0m \u001b[0mlen\u001b[0m\u001b[1;33m(\u001b[0m\u001b[0mid2word\u001b[0m\u001b[1;33m)\u001b[0m \u001b[1;32mif\u001b[0m \u001b[0mid2word\u001b[0m \u001b[1;32mis\u001b[0m \u001b[1;32mnot\u001b[0m \u001b[0mNone\u001b[0m \u001b[1;32melse\u001b[0m \u001b[0mNone\u001b[0m\u001b[1;33m\u001b[0m\u001b[0m\n\u001b[1;32m---> 49\u001b[1;33m         \u001b[1;32mreturn\u001b[0m \u001b[0mmatutils\u001b[0m\u001b[1;33m.\u001b[0m\u001b[0mMmWriter\u001b[0m\u001b[1;33m.\u001b[0m\u001b[0mwrite_corpus\u001b[0m\u001b[1;33m(\u001b[0m\u001b[0mfname\u001b[0m\u001b[1;33m,\u001b[0m \u001b[0mcorpus\u001b[0m\u001b[1;33m,\u001b[0m \u001b[0mnum_terms\u001b[0m\u001b[1;33m=\u001b[0m\u001b[0mnum_terms\u001b[0m\u001b[1;33m,\u001b[0m \u001b[0mindex\u001b[0m\u001b[1;33m=\u001b[0m\u001b[0mTrue\u001b[0m\u001b[1;33m,\u001b[0m \u001b[0mprogress_cnt\u001b[0m\u001b[1;33m=\u001b[0m\u001b[0mprogress_cnt\u001b[0m\u001b[1;33m,\u001b[0m \u001b[0mmetadata\u001b[0m\u001b[1;33m=\u001b[0m\u001b[0mmetadata\u001b[0m\u001b[1;33m)\u001b[0m\u001b[1;33m\u001b[0m\u001b[0m\n\u001b[0m\u001b[0;32m     50\u001b[0m \u001b[1;33m\u001b[0m\u001b[0m\n\u001b[0;32m     51\u001b[0m \u001b[1;31m# endclass MmCorpus\u001b[0m\u001b[1;33m\u001b[0m\u001b[1;33m\u001b[0m\u001b[0m\n",
        "\u001b[1;32m/home/blannon/.virtualenvs/san/local/lib/python2.7/site-packages/gensim/matutils.pyc\u001b[0m in \u001b[0;36mwrite_corpus\u001b[1;34m(fname, corpus, progress_cnt, index, num_terms, metadata)\u001b[0m\n\u001b[0;32m    503\u001b[0m         \u001b[1;32melse\u001b[0m\u001b[1;33m:\u001b[0m\u001b[1;33m\u001b[0m\u001b[0m\n\u001b[0;32m    504\u001b[0m             \u001b[0mmetadata\u001b[0m \u001b[1;33m=\u001b[0m \u001b[0mFalse\u001b[0m\u001b[1;33m\u001b[0m\u001b[0m\n\u001b[1;32m--> 505\u001b[1;33m         \u001b[1;32mfor\u001b[0m \u001b[0mdocno\u001b[0m\u001b[1;33m,\u001b[0m \u001b[0mdoc\u001b[0m \u001b[1;32min\u001b[0m \u001b[0menumerate\u001b[0m\u001b[1;33m(\u001b[0m\u001b[0mcorpus\u001b[0m\u001b[1;33m)\u001b[0m\u001b[1;33m:\u001b[0m\u001b[1;33m\u001b[0m\u001b[0m\n\u001b[0m\u001b[0;32m    506\u001b[0m             \u001b[1;32mif\u001b[0m \u001b[0mmetadata\u001b[0m\u001b[1;33m:\u001b[0m\u001b[1;33m\u001b[0m\u001b[0m\n\u001b[0;32m    507\u001b[0m                 \u001b[0mbow\u001b[0m\u001b[1;33m,\u001b[0m \u001b[0mdata\u001b[0m \u001b[1;33m=\u001b[0m \u001b[0mdoc\u001b[0m\u001b[1;33m\u001b[0m\u001b[0m\n",
        "\u001b[1;32m/home/blannon/dev/fcc-net-neutrality-comments/models/corpus.py\u001b[0m in \u001b[0;36m__iter__\u001b[1;34m(self)\u001b[0m\n\u001b[0;32m     26\u001b[0m         \u001b[1;32mfor\u001b[0m \u001b[0mdoc\u001b[0m \u001b[1;32min\u001b[0m \u001b[0mself\u001b[0m\u001b[1;33m.\u001b[0m\u001b[0mdocuments\u001b[0m\u001b[1;33m:\u001b[0m\u001b[1;33m\u001b[0m\u001b[0m\n\u001b[0;32m     27\u001b[0m             \u001b[0mdoctext\u001b[0m \u001b[1;33m=\u001b[0m \u001b[0mself\u001b[0m\u001b[1;33m.\u001b[0m\u001b[0mextract_doctext\u001b[0m\u001b[1;33m(\u001b[0m\u001b[0mdoc\u001b[0m\u001b[1;33m)\u001b[0m\u001b[1;33m\u001b[0m\u001b[0m\n\u001b[1;32m---> 28\u001b[1;33m             \u001b[1;32myield\u001b[0m \u001b[0mself\u001b[0m\u001b[1;33m.\u001b[0m\u001b[0mreturn_doctext\u001b[0m\u001b[1;33m(\u001b[0m\u001b[0mdoctext\u001b[0m\u001b[1;33m)\u001b[0m\u001b[1;33m\u001b[0m\u001b[0m\n\u001b[0m\u001b[0;32m     29\u001b[0m \u001b[1;33m\u001b[0m\u001b[0m\n\u001b[0;32m     30\u001b[0m     \u001b[1;32mdef\u001b[0m \u001b[0m_return_tokens\u001b[0m\u001b[1;33m(\u001b[0m\u001b[0mself\u001b[0m\u001b[1;33m,\u001b[0m \u001b[0mdoctext\u001b[0m\u001b[1;33m)\u001b[0m\u001b[1;33m:\u001b[0m\u001b[1;33m\u001b[0m\u001b[0m\n",
        "\u001b[1;32m/home/blannon/dev/fcc-net-neutrality-comments/models/corpus.py\u001b[0m in \u001b[0;36m_return_bow\u001b[1;34m(self, doctext)\u001b[0m\n\u001b[0;32m     33\u001b[0m     \u001b[1;32mdef\u001b[0m \u001b[0m_return_bow\u001b[0m\u001b[1;33m(\u001b[0m\u001b[0mself\u001b[0m\u001b[1;33m,\u001b[0m \u001b[0mdoctext\u001b[0m\u001b[1;33m)\u001b[0m\u001b[1;33m:\u001b[0m\u001b[1;33m\u001b[0m\u001b[0m\n\u001b[0;32m     34\u001b[0m         \u001b[0mdoctext\u001b[0m \u001b[1;33m=\u001b[0m \u001b[0mself\u001b[0m\u001b[1;33m.\u001b[0m\u001b[0mextract_doctext\u001b[0m\u001b[1;33m(\u001b[0m\u001b[0mself\u001b[0m\u001b[1;33m.\u001b[0m\u001b[0mdocuments\u001b[0m\u001b[1;33m.\u001b[0m\u001b[0mnext\u001b[0m\u001b[1;33m(\u001b[0m\u001b[1;33m)\u001b[0m\u001b[1;33m)\u001b[0m\u001b[1;33m\u001b[0m\u001b[0m\n\u001b[1;32m---> 35\u001b[1;33m         \u001b[1;32mreturn\u001b[0m \u001b[0mself\u001b[0m\u001b[1;33m.\u001b[0m\u001b[0mdictionary\u001b[0m\u001b[1;33m.\u001b[0m\u001b[0mdoc2bow\u001b[0m\u001b[1;33m(\u001b[0m\u001b[0mself\u001b[0m\u001b[1;33m.\u001b[0m\u001b[0mtokenizer\u001b[0m\u001b[1;33m.\u001b[0m\u001b[0mtokenize\u001b[0m\u001b[1;33m(\u001b[0m\u001b[0mdoctext\u001b[0m\u001b[1;33m)\u001b[0m\u001b[1;33m)\u001b[0m\u001b[1;33m\u001b[0m\u001b[0m\n\u001b[0m\u001b[0;32m     36\u001b[0m \u001b[1;33m\u001b[0m\u001b[0m\n\u001b[0;32m     37\u001b[0m     \u001b[1;32mdef\u001b[0m \u001b[0mextract_doctext\u001b[0m\u001b[1;33m(\u001b[0m\u001b[0mself\u001b[0m\u001b[1;33m,\u001b[0m \u001b[0mfile_loc\u001b[0m\u001b[1;33m)\u001b[0m\u001b[1;33m:\u001b[0m\u001b[1;33m\u001b[0m\u001b[0m\n",
        "\u001b[1;32m/home/blannon/.virtualenvs/san/local/lib/python2.7/site-packages/gensim/corpora/dictionary.pyc\u001b[0m in \u001b[0;36mdoc2bow\u001b[1;34m(self, document, allow_update, return_missing)\u001b[0m\n\u001b[0;32m    139\u001b[0m         \u001b[1;32mif\u001b[0m \u001b[0misinstance\u001b[0m\u001b[1;33m(\u001b[0m\u001b[0mdocument\u001b[0m\u001b[1;33m,\u001b[0m \u001b[0mstring_types\u001b[0m\u001b[1;33m)\u001b[0m\u001b[1;33m:\u001b[0m\u001b[1;33m\u001b[0m\u001b[0m\n\u001b[0;32m    140\u001b[0m             \u001b[1;32mraise\u001b[0m \u001b[0mTypeError\u001b[0m\u001b[1;33m(\u001b[0m\u001b[1;34m\"doc2bow expects an array of unicode tokens on input, not a single string\"\u001b[0m\u001b[1;33m)\u001b[0m\u001b[1;33m\u001b[0m\u001b[0m\n\u001b[1;32m--> 141\u001b[1;33m         \u001b[0mdocument\u001b[0m \u001b[1;33m=\u001b[0m \u001b[0msorted\u001b[0m\u001b[1;33m(\u001b[0m\u001b[0mutils\u001b[0m\u001b[1;33m.\u001b[0m\u001b[0mto_unicode\u001b[0m\u001b[1;33m(\u001b[0m\u001b[0mtoken\u001b[0m\u001b[1;33m)\u001b[0m \u001b[1;32mfor\u001b[0m \u001b[0mtoken\u001b[0m \u001b[1;32min\u001b[0m \u001b[0mdocument\u001b[0m\u001b[1;33m)\u001b[0m\u001b[1;33m\u001b[0m\u001b[0m\n\u001b[0m\u001b[0;32m    142\u001b[0m         \u001b[1;31m# construct (word, frequency) mapping. in python3 this is done simply\u001b[0m\u001b[1;33m\u001b[0m\u001b[1;33m\u001b[0m\u001b[0m\n\u001b[0;32m    143\u001b[0m         \u001b[1;31m# using Counter(), but here i use itertools.groupby() for the job\u001b[0m\u001b[1;33m\u001b[0m\u001b[1;33m\u001b[0m\u001b[0m\n",
        "\u001b[1;32m/home/blannon/.virtualenvs/san/local/lib/python2.7/site-packages/gensim/corpora/dictionary.pyc\u001b[0m in \u001b[0;36m<genexpr>\u001b[1;34m((token,))\u001b[0m\n\u001b[0;32m    139\u001b[0m         \u001b[1;32mif\u001b[0m \u001b[0misinstance\u001b[0m\u001b[1;33m(\u001b[0m\u001b[0mdocument\u001b[0m\u001b[1;33m,\u001b[0m \u001b[0mstring_types\u001b[0m\u001b[1;33m)\u001b[0m\u001b[1;33m:\u001b[0m\u001b[1;33m\u001b[0m\u001b[0m\n\u001b[0;32m    140\u001b[0m             \u001b[1;32mraise\u001b[0m \u001b[0mTypeError\u001b[0m\u001b[1;33m(\u001b[0m\u001b[1;34m\"doc2bow expects an array of unicode tokens on input, not a single string\"\u001b[0m\u001b[1;33m)\u001b[0m\u001b[1;33m\u001b[0m\u001b[0m\n\u001b[1;32m--> 141\u001b[1;33m         \u001b[0mdocument\u001b[0m \u001b[1;33m=\u001b[0m \u001b[0msorted\u001b[0m\u001b[1;33m(\u001b[0m\u001b[0mutils\u001b[0m\u001b[1;33m.\u001b[0m\u001b[0mto_unicode\u001b[0m\u001b[1;33m(\u001b[0m\u001b[0mtoken\u001b[0m\u001b[1;33m)\u001b[0m \u001b[1;32mfor\u001b[0m \u001b[0mtoken\u001b[0m \u001b[1;32min\u001b[0m \u001b[0mdocument\u001b[0m\u001b[1;33m)\u001b[0m\u001b[1;33m\u001b[0m\u001b[0m\n\u001b[0m\u001b[0;32m    142\u001b[0m         \u001b[1;31m# construct (word, frequency) mapping. in python3 this is done simply\u001b[0m\u001b[1;33m\u001b[0m\u001b[1;33m\u001b[0m\u001b[0m\n\u001b[0;32m    143\u001b[0m         \u001b[1;31m# using Counter(), but here i use itertools.groupby() for the job\u001b[0m\u001b[1;33m\u001b[0m\u001b[1;33m\u001b[0m\u001b[0m\n",
        "\u001b[1;32m/home/blannon/.virtualenvs/san/local/lib/python2.7/site-packages/gensim/utils.pyc\u001b[0m in \u001b[0;36many2unicode\u001b[1;34m(text, encoding, errors)\u001b[0m\n\u001b[0;32m    184\u001b[0m \u001b[1;33m\u001b[0m\u001b[0m\n\u001b[0;32m    185\u001b[0m \u001b[1;33m\u001b[0m\u001b[0m\n\u001b[1;32m--> 186\u001b[1;33m \u001b[1;32mdef\u001b[0m \u001b[0many2unicode\u001b[0m\u001b[1;33m(\u001b[0m\u001b[0mtext\u001b[0m\u001b[1;33m,\u001b[0m \u001b[0mencoding\u001b[0m\u001b[1;33m=\u001b[0m\u001b[1;34m'utf8'\u001b[0m\u001b[1;33m,\u001b[0m \u001b[0merrors\u001b[0m\u001b[1;33m=\u001b[0m\u001b[1;34m'strict'\u001b[0m\u001b[1;33m)\u001b[0m\u001b[1;33m:\u001b[0m\u001b[1;33m\u001b[0m\u001b[0m\n\u001b[0m\u001b[0;32m    187\u001b[0m     \u001b[1;34m\"\"\"Convert a string (bytestring in `encoding` or unicode), to unicode.\"\"\"\u001b[0m\u001b[1;33m\u001b[0m\u001b[0m\n\u001b[0;32m    188\u001b[0m     \u001b[1;32mif\u001b[0m \u001b[0misinstance\u001b[0m\u001b[1;33m(\u001b[0m\u001b[0mtext\u001b[0m\u001b[1;33m,\u001b[0m \u001b[0municode\u001b[0m\u001b[1;33m)\u001b[0m\u001b[1;33m:\u001b[0m\u001b[1;33m\u001b[0m\u001b[0m\n",
        "\u001b[1;31mKeyboardInterrupt\u001b[0m: "
       ]
      }
     ],
     "prompt_number": 35
    },
    {
     "cell_type": "code",
     "collapsed": false,
     "input": [
      "lj_corpus"
     ],
     "language": "python",
     "metadata": {},
     "outputs": [
      {
       "metadata": {},
       "output_type": "pyout",
       "prompt_number": 23,
       "text": [
        "<models.corpus.LazyJSONCorpus at 0x7f8d4c69c650>"
       ]
      }
     ],
     "prompt_number": 23
    },
    {
     "cell_type": "code",
     "collapsed": false,
     "input": [],
     "language": "python",
     "metadata": {},
     "outputs": []
    }
   ],
   "metadata": {}
  }
 ]
}